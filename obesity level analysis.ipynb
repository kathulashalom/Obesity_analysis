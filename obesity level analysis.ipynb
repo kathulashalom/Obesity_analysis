{
 "cells": [
  {
   "cell_type": "code",
   "execution_count": 2,
   "id": "8490c502-9f31-4c0f-984b-11c76f40a974",
   "metadata": {},
   "outputs": [],
   "source": [
    "import pandas as pd\n",
    "import numpy as np\n",
    "import matplotlib.pyplot as plt\n"
   ]
  },
  {
   "cell_type": "code",
   "execution_count": 4,
   "id": "c2edcc75-b068-4636-a927-3a6ce1560018",
   "metadata": {
    "scrolled": true
   },
   "outputs": [
    {
     "data": {
      "text/html": [
       "<div>\n",
       "<style scoped>\n",
       "    .dataframe tbody tr th:only-of-type {\n",
       "        vertical-align: middle;\n",
       "    }\n",
       "\n",
       "    .dataframe tbody tr th {\n",
       "        vertical-align: top;\n",
       "    }\n",
       "\n",
       "    .dataframe thead th {\n",
       "        text-align: right;\n",
       "    }\n",
       "</style>\n",
       "<table border=\"1\" class=\"dataframe\">\n",
       "  <thead>\n",
       "    <tr style=\"text-align: right;\">\n",
       "      <th></th>\n",
       "      <th>Age</th>\n",
       "      <th>Gender</th>\n",
       "      <th>Height</th>\n",
       "      <th>Weight</th>\n",
       "      <th>CALC</th>\n",
       "      <th>FAVC</th>\n",
       "      <th>FCVC</th>\n",
       "      <th>NCP</th>\n",
       "      <th>SCC</th>\n",
       "      <th>SMOKE</th>\n",
       "      <th>CH2O</th>\n",
       "      <th>family_history_with_overweight</th>\n",
       "      <th>FAF</th>\n",
       "      <th>TUE</th>\n",
       "      <th>CAEC</th>\n",
       "      <th>MTRANS</th>\n",
       "      <th>NObeyesdad</th>\n",
       "    </tr>\n",
       "  </thead>\n",
       "  <tbody>\n",
       "    <tr>\n",
       "      <th>0</th>\n",
       "      <td>21.000000</td>\n",
       "      <td>Female</td>\n",
       "      <td>1.620000</td>\n",
       "      <td>64.000000</td>\n",
       "      <td>no</td>\n",
       "      <td>no</td>\n",
       "      <td>2.0</td>\n",
       "      <td>3.0</td>\n",
       "      <td>no</td>\n",
       "      <td>no</td>\n",
       "      <td>2.000000</td>\n",
       "      <td>yes</td>\n",
       "      <td>0.000000</td>\n",
       "      <td>1.000000</td>\n",
       "      <td>Sometimes</td>\n",
       "      <td>Public_Transportation</td>\n",
       "      <td>Normal_Weight</td>\n",
       "    </tr>\n",
       "    <tr>\n",
       "      <th>1</th>\n",
       "      <td>21.000000</td>\n",
       "      <td>Female</td>\n",
       "      <td>1.520000</td>\n",
       "      <td>56.000000</td>\n",
       "      <td>Sometimes</td>\n",
       "      <td>no</td>\n",
       "      <td>3.0</td>\n",
       "      <td>3.0</td>\n",
       "      <td>yes</td>\n",
       "      <td>yes</td>\n",
       "      <td>3.000000</td>\n",
       "      <td>yes</td>\n",
       "      <td>3.000000</td>\n",
       "      <td>0.000000</td>\n",
       "      <td>Sometimes</td>\n",
       "      <td>Public_Transportation</td>\n",
       "      <td>Normal_Weight</td>\n",
       "    </tr>\n",
       "    <tr>\n",
       "      <th>2</th>\n",
       "      <td>23.000000</td>\n",
       "      <td>Male</td>\n",
       "      <td>1.800000</td>\n",
       "      <td>77.000000</td>\n",
       "      <td>Frequently</td>\n",
       "      <td>no</td>\n",
       "      <td>2.0</td>\n",
       "      <td>3.0</td>\n",
       "      <td>no</td>\n",
       "      <td>no</td>\n",
       "      <td>2.000000</td>\n",
       "      <td>yes</td>\n",
       "      <td>2.000000</td>\n",
       "      <td>1.000000</td>\n",
       "      <td>Sometimes</td>\n",
       "      <td>Public_Transportation</td>\n",
       "      <td>Normal_Weight</td>\n",
       "    </tr>\n",
       "    <tr>\n",
       "      <th>3</th>\n",
       "      <td>27.000000</td>\n",
       "      <td>Male</td>\n",
       "      <td>1.800000</td>\n",
       "      <td>87.000000</td>\n",
       "      <td>Frequently</td>\n",
       "      <td>no</td>\n",
       "      <td>3.0</td>\n",
       "      <td>3.0</td>\n",
       "      <td>no</td>\n",
       "      <td>no</td>\n",
       "      <td>2.000000</td>\n",
       "      <td>no</td>\n",
       "      <td>2.000000</td>\n",
       "      <td>0.000000</td>\n",
       "      <td>Sometimes</td>\n",
       "      <td>Walking</td>\n",
       "      <td>Overweight_Level_I</td>\n",
       "    </tr>\n",
       "    <tr>\n",
       "      <th>4</th>\n",
       "      <td>22.000000</td>\n",
       "      <td>Male</td>\n",
       "      <td>1.780000</td>\n",
       "      <td>89.800000</td>\n",
       "      <td>Sometimes</td>\n",
       "      <td>no</td>\n",
       "      <td>2.0</td>\n",
       "      <td>1.0</td>\n",
       "      <td>no</td>\n",
       "      <td>no</td>\n",
       "      <td>2.000000</td>\n",
       "      <td>no</td>\n",
       "      <td>0.000000</td>\n",
       "      <td>0.000000</td>\n",
       "      <td>Sometimes</td>\n",
       "      <td>Public_Transportation</td>\n",
       "      <td>Overweight_Level_II</td>\n",
       "    </tr>\n",
       "    <tr>\n",
       "      <th>...</th>\n",
       "      <td>...</td>\n",
       "      <td>...</td>\n",
       "      <td>...</td>\n",
       "      <td>...</td>\n",
       "      <td>...</td>\n",
       "      <td>...</td>\n",
       "      <td>...</td>\n",
       "      <td>...</td>\n",
       "      <td>...</td>\n",
       "      <td>...</td>\n",
       "      <td>...</td>\n",
       "      <td>...</td>\n",
       "      <td>...</td>\n",
       "      <td>...</td>\n",
       "      <td>...</td>\n",
       "      <td>...</td>\n",
       "      <td>...</td>\n",
       "    </tr>\n",
       "    <tr>\n",
       "      <th>2106</th>\n",
       "      <td>20.976842</td>\n",
       "      <td>Female</td>\n",
       "      <td>1.710730</td>\n",
       "      <td>131.408528</td>\n",
       "      <td>Sometimes</td>\n",
       "      <td>yes</td>\n",
       "      <td>3.0</td>\n",
       "      <td>3.0</td>\n",
       "      <td>no</td>\n",
       "      <td>no</td>\n",
       "      <td>1.728139</td>\n",
       "      <td>yes</td>\n",
       "      <td>1.676269</td>\n",
       "      <td>0.906247</td>\n",
       "      <td>Sometimes</td>\n",
       "      <td>Public_Transportation</td>\n",
       "      <td>Obesity_Type_III</td>\n",
       "    </tr>\n",
       "    <tr>\n",
       "      <th>2107</th>\n",
       "      <td>21.982942</td>\n",
       "      <td>Female</td>\n",
       "      <td>1.748584</td>\n",
       "      <td>133.742943</td>\n",
       "      <td>Sometimes</td>\n",
       "      <td>yes</td>\n",
       "      <td>3.0</td>\n",
       "      <td>3.0</td>\n",
       "      <td>no</td>\n",
       "      <td>no</td>\n",
       "      <td>2.005130</td>\n",
       "      <td>yes</td>\n",
       "      <td>1.341390</td>\n",
       "      <td>0.599270</td>\n",
       "      <td>Sometimes</td>\n",
       "      <td>Public_Transportation</td>\n",
       "      <td>Obesity_Type_III</td>\n",
       "    </tr>\n",
       "    <tr>\n",
       "      <th>2108</th>\n",
       "      <td>22.524036</td>\n",
       "      <td>Female</td>\n",
       "      <td>1.752206</td>\n",
       "      <td>133.689352</td>\n",
       "      <td>Sometimes</td>\n",
       "      <td>yes</td>\n",
       "      <td>3.0</td>\n",
       "      <td>3.0</td>\n",
       "      <td>no</td>\n",
       "      <td>no</td>\n",
       "      <td>2.054193</td>\n",
       "      <td>yes</td>\n",
       "      <td>1.414209</td>\n",
       "      <td>0.646288</td>\n",
       "      <td>Sometimes</td>\n",
       "      <td>Public_Transportation</td>\n",
       "      <td>Obesity_Type_III</td>\n",
       "    </tr>\n",
       "    <tr>\n",
       "      <th>2109</th>\n",
       "      <td>24.361936</td>\n",
       "      <td>Female</td>\n",
       "      <td>1.739450</td>\n",
       "      <td>133.346641</td>\n",
       "      <td>Sometimes</td>\n",
       "      <td>yes</td>\n",
       "      <td>3.0</td>\n",
       "      <td>3.0</td>\n",
       "      <td>no</td>\n",
       "      <td>no</td>\n",
       "      <td>2.852339</td>\n",
       "      <td>yes</td>\n",
       "      <td>1.139107</td>\n",
       "      <td>0.586035</td>\n",
       "      <td>Sometimes</td>\n",
       "      <td>Public_Transportation</td>\n",
       "      <td>Obesity_Type_III</td>\n",
       "    </tr>\n",
       "    <tr>\n",
       "      <th>2110</th>\n",
       "      <td>23.664709</td>\n",
       "      <td>Female</td>\n",
       "      <td>1.738836</td>\n",
       "      <td>133.472641</td>\n",
       "      <td>Sometimes</td>\n",
       "      <td>yes</td>\n",
       "      <td>3.0</td>\n",
       "      <td>3.0</td>\n",
       "      <td>no</td>\n",
       "      <td>no</td>\n",
       "      <td>2.863513</td>\n",
       "      <td>yes</td>\n",
       "      <td>1.026452</td>\n",
       "      <td>0.714137</td>\n",
       "      <td>Sometimes</td>\n",
       "      <td>Public_Transportation</td>\n",
       "      <td>Obesity_Type_III</td>\n",
       "    </tr>\n",
       "  </tbody>\n",
       "</table>\n",
       "<p>2111 rows × 17 columns</p>\n",
       "</div>"
      ],
      "text/plain": [
       "            Age  Gender    Height      Weight        CALC FAVC  FCVC  NCP  \\\n",
       "0     21.000000  Female  1.620000   64.000000          no   no   2.0  3.0   \n",
       "1     21.000000  Female  1.520000   56.000000   Sometimes   no   3.0  3.0   \n",
       "2     23.000000    Male  1.800000   77.000000  Frequently   no   2.0  3.0   \n",
       "3     27.000000    Male  1.800000   87.000000  Frequently   no   3.0  3.0   \n",
       "4     22.000000    Male  1.780000   89.800000   Sometimes   no   2.0  1.0   \n",
       "...         ...     ...       ...         ...         ...  ...   ...  ...   \n",
       "2106  20.976842  Female  1.710730  131.408528   Sometimes  yes   3.0  3.0   \n",
       "2107  21.982942  Female  1.748584  133.742943   Sometimes  yes   3.0  3.0   \n",
       "2108  22.524036  Female  1.752206  133.689352   Sometimes  yes   3.0  3.0   \n",
       "2109  24.361936  Female  1.739450  133.346641   Sometimes  yes   3.0  3.0   \n",
       "2110  23.664709  Female  1.738836  133.472641   Sometimes  yes   3.0  3.0   \n",
       "\n",
       "      SCC SMOKE      CH2O family_history_with_overweight       FAF       TUE  \\\n",
       "0      no    no  2.000000                            yes  0.000000  1.000000   \n",
       "1     yes   yes  3.000000                            yes  3.000000  0.000000   \n",
       "2      no    no  2.000000                            yes  2.000000  1.000000   \n",
       "3      no    no  2.000000                             no  2.000000  0.000000   \n",
       "4      no    no  2.000000                             no  0.000000  0.000000   \n",
       "...   ...   ...       ...                            ...       ...       ...   \n",
       "2106   no    no  1.728139                            yes  1.676269  0.906247   \n",
       "2107   no    no  2.005130                            yes  1.341390  0.599270   \n",
       "2108   no    no  2.054193                            yes  1.414209  0.646288   \n",
       "2109   no    no  2.852339                            yes  1.139107  0.586035   \n",
       "2110   no    no  2.863513                            yes  1.026452  0.714137   \n",
       "\n",
       "           CAEC                 MTRANS           NObeyesdad  \n",
       "0     Sometimes  Public_Transportation        Normal_Weight  \n",
       "1     Sometimes  Public_Transportation        Normal_Weight  \n",
       "2     Sometimes  Public_Transportation        Normal_Weight  \n",
       "3     Sometimes                Walking   Overweight_Level_I  \n",
       "4     Sometimes  Public_Transportation  Overweight_Level_II  \n",
       "...         ...                    ...                  ...  \n",
       "2106  Sometimes  Public_Transportation     Obesity_Type_III  \n",
       "2107  Sometimes  Public_Transportation     Obesity_Type_III  \n",
       "2108  Sometimes  Public_Transportation     Obesity_Type_III  \n",
       "2109  Sometimes  Public_Transportation     Obesity_Type_III  \n",
       "2110  Sometimes  Public_Transportation     Obesity_Type_III  \n",
       "\n",
       "[2111 rows x 17 columns]"
      ]
     },
     "execution_count": 4,
     "metadata": {},
     "output_type": "execute_result"
    }
   ],
   "source": [
    "obese=pd.read_csv('ObesityDataSet_raw_and_data_sinthetic.csv')\n",
    "obese"
   ]
  },
  {
   "cell_type": "code",
   "execution_count": 6,
   "id": "1a86abc3-dfa1-4015-a7cb-733efc9b5027",
   "metadata": {
    "scrolled": true
   },
   "outputs": [
    {
     "name": "stdout",
     "output_type": "stream",
     "text": [
      "<class 'pandas.core.frame.DataFrame'>\n",
      "RangeIndex: 2111 entries, 0 to 2110\n",
      "Data columns (total 17 columns):\n",
      " #   Column                          Non-Null Count  Dtype  \n",
      "---  ------                          --------------  -----  \n",
      " 0   Age                             2111 non-null   float64\n",
      " 1   Gender                          2111 non-null   object \n",
      " 2   Height                          2111 non-null   float64\n",
      " 3   Weight                          2111 non-null   float64\n",
      " 4   CALC                            2111 non-null   object \n",
      " 5   FAVC                            2111 non-null   object \n",
      " 6   FCVC                            2111 non-null   float64\n",
      " 7   NCP                             2111 non-null   float64\n",
      " 8   SCC                             2111 non-null   object \n",
      " 9   SMOKE                           2111 non-null   object \n",
      " 10  CH2O                            2111 non-null   float64\n",
      " 11  family_history_with_overweight  2111 non-null   object \n",
      " 12  FAF                             2111 non-null   float64\n",
      " 13  TUE                             2111 non-null   float64\n",
      " 14  CAEC                            2111 non-null   object \n",
      " 15  MTRANS                          2111 non-null   object \n",
      " 16  NObeyesdad                      2111 non-null   object \n",
      "dtypes: float64(8), object(9)\n",
      "memory usage: 280.5+ KB\n"
     ]
    }
   ],
   "source": [
    "obese.info()"
   ]
  },
  {
   "cell_type": "code",
   "execution_count": 10,
   "id": "75ceaa0c-d5b9-4202-ad9f-112fdd040eaa",
   "metadata": {
    "scrolled": true
   },
   "outputs": [
    {
     "data": {
      "text/plain": [
       "Age                               0\n",
       "Gender                            0\n",
       "Height                            0\n",
       "Weight                            0\n",
       "CALC                              0\n",
       "FAVC                              0\n",
       "FCVC                              0\n",
       "NCP                               0\n",
       "SCC                               0\n",
       "SMOKE                             0\n",
       "CH2O                              0\n",
       "family_history_with_overweight    0\n",
       "FAF                               0\n",
       "TUE                               0\n",
       "CAEC                              0\n",
       "MTRANS                            0\n",
       "NObeyesdad                        0\n",
       "dtype: int64"
      ]
     },
     "execution_count": 10,
     "metadata": {},
     "output_type": "execute_result"
    }
   ],
   "source": [
    "obese.isnull().sum()"
   ]
  },
  {
   "cell_type": "code",
   "execution_count": 5,
   "id": "a61c4df3-0621-478d-bbd9-024ebd5d82f9",
   "metadata": {},
   "outputs": [],
   "source": []
  },
  {
   "cell_type": "code",
   "execution_count": 12,
   "id": "88aff88a-8fae-40b0-b390-080e143c7543",
   "metadata": {},
   "outputs": [
    {
     "name": "stdout",
     "output_type": "stream",
     "text": [
      "<class 'pandas.core.frame.DataFrame'>\n",
      "RangeIndex: 2111 entries, 0 to 2110\n",
      "Data columns (total 17 columns):\n",
      " #   Column                          Non-Null Count  Dtype  \n",
      "---  ------                          --------------  -----  \n",
      " 0   Age                             2111 non-null   float64\n",
      " 1   Gender                          2111 non-null   object \n",
      " 2   Height                          2111 non-null   float64\n",
      " 3   Weight                          2111 non-null   float64\n",
      " 4   CALC                            2111 non-null   object \n",
      " 5   FAVC                            2111 non-null   object \n",
      " 6   FCVC                            2111 non-null   float64\n",
      " 7   NCP                             2111 non-null   float64\n",
      " 8   SCC                             2111 non-null   object \n",
      " 9   SMOKE                           2111 non-null   object \n",
      " 10  CH2O                            2111 non-null   float64\n",
      " 11  family_history_with_overweight  2111 non-null   object \n",
      " 12  FAF                             2111 non-null   float64\n",
      " 13  TUE                             2111 non-null   float64\n",
      " 14  CAEC                            2111 non-null   object \n",
      " 15  MTRANS                          2111 non-null   object \n",
      " 16  NObeyesdad                      2111 non-null   object \n",
      "dtypes: float64(8), object(9)\n",
      "memory usage: 280.5+ KB\n"
     ]
    }
   ],
   "source": [
    "obese.info()"
   ]
  },
  {
   "cell_type": "code",
   "execution_count": 14,
   "id": "0171b608-56eb-4858-9cac-3c42b0f06231",
   "metadata": {},
   "outputs": [],
   "source": [
    "def seperator(data,margin):\n",
    "    cat=[]\n",
    "    num=[]\n",
    "    for col in data.columns:\n",
    "        if data[col].nunique()< margin:\n",
    "            cat.append(col)\n",
    "        else:\n",
    "            num.append(col)\n",
    "    return cat,num"
   ]
  },
  {
   "cell_type": "code",
   "execution_count": 16,
   "id": "64d37d8c-508a-408a-b738-da5c9ea13c62",
   "metadata": {},
   "outputs": [],
   "source": [
    "categorical, numerical=seperator(obese,60)"
   ]
  },
  {
   "cell_type": "code",
   "execution_count": 18,
   "id": "b3bb60d5-9d79-46c2-9207-0ce674ae8782",
   "metadata": {},
   "outputs": [],
   "source": [
    "cat=[]\n",
    "num=[]"
   ]
  },
  {
   "cell_type": "code",
   "execution_count": 20,
   "id": "eff9889c-418b-401e-8783-82fedbe4e00e",
   "metadata": {},
   "outputs": [
    {
     "data": {
      "text/plain": [
       "['Gender',\n",
       " 'CALC',\n",
       " 'FAVC',\n",
       " 'SCC',\n",
       " 'SMOKE',\n",
       " 'family_history_with_overweight',\n",
       " 'CAEC',\n",
       " 'MTRANS',\n",
       " 'NObeyesdad']"
      ]
     },
     "execution_count": 20,
     "metadata": {},
     "output_type": "execute_result"
    }
   ],
   "source": [
    "categorical"
   ]
  },
  {
   "cell_type": "code",
   "execution_count": 22,
   "id": "fe2ffcdb-9f17-45ef-8b03-7aea7aae847b",
   "metadata": {},
   "outputs": [
    {
     "data": {
      "text/plain": [
       "['Age', 'Height', 'Weight', 'FCVC', 'NCP', 'CH2O', 'FAF', 'TUE']"
      ]
     },
     "execution_count": 22,
     "metadata": {},
     "output_type": "execute_result"
    }
   ],
   "source": [
    "numerical"
   ]
  },
  {
   "cell_type": "code",
   "execution_count": 24,
   "id": "8a2d6b26-a92f-45fb-b168-2f073692e1f9",
   "metadata": {},
   "outputs": [
    {
     "data": {
      "text/plain": [
       "['Gender',\n",
       " 'CALC',\n",
       " 'FAVC',\n",
       " 'SCC',\n",
       " 'SMOKE',\n",
       " 'family_history_with_overweight',\n",
       " 'CAEC',\n",
       " 'MTRANS',\n",
       " 'NObeyesdad']"
      ]
     },
     "execution_count": 24,
     "metadata": {},
     "output_type": "execute_result"
    }
   ],
   "source": [
    "categorical"
   ]
  },
  {
   "cell_type": "code",
   "execution_count": 26,
   "id": "3cf2f8c9-6279-4597-a2d6-c53dab89277f",
   "metadata": {},
   "outputs": [
    {
     "data": {
      "text/plain": [
       "['Age', 'Height', 'Weight', 'FCVC', 'NCP', 'CH2O', 'FAF', 'TUE']"
      ]
     },
     "execution_count": 26,
     "metadata": {},
     "output_type": "execute_result"
    }
   ],
   "source": [
    "numerical"
   ]
  },
  {
   "cell_type": "code",
   "execution_count": 28,
   "id": "e36c33a0-9f0a-401d-a4c6-bb71da4afd07",
   "metadata": {},
   "outputs": [
    {
     "data": {
      "text/plain": [
       "Index(['Age', 'Gender', 'Height', 'Weight', 'CALC', 'FAVC', 'FCVC', 'NCP',\n",
       "       'SCC', 'SMOKE', 'CH2O', 'family_history_with_overweight', 'FAF', 'TUE',\n",
       "       'CAEC', 'MTRANS', 'NObeyesdad'],\n",
       "      dtype='object')"
      ]
     },
     "execution_count": 28,
     "metadata": {},
     "output_type": "execute_result"
    }
   ],
   "source": [
    "obese.columns"
   ]
  },
  {
   "cell_type": "code",
   "execution_count": 22,
   "id": "0144c73c-75a9-4186-8830-2440ba4b8daa",
   "metadata": {},
   "outputs": [
    {
     "name": "stdout",
     "output_type": "stream",
     "text": [
      "<class 'pandas.core.frame.DataFrame'>\n",
      "RangeIndex: 3002 entries, 0 to 3001\n",
      "Data columns (total 14 columns):\n",
      " #   Column                             Non-Null Count  Dtype \n",
      "---  ------                             --------------  ----- \n",
      " 0   TRDATE                             3002 non-null   object\n",
      " 1   REGION                             3002 non-null   object\n",
      " 2   STATE_NAME                         3002 non-null   object\n",
      " 3   MODE_OF_TRANSPORT                  3002 non-null   object\n",
      " 4   STATION_NAME                       3002 non-null   object\n",
      " 5   UTILITY                            3002 non-null   object\n",
      " 6   SECTOR                             3002 non-null   object\n",
      " 7   CAPACITY                           3002 non-null   object\n",
      " 8   NORMATIVE_STOCKS_REQUIRED_IN_DAYS  3002 non-null   int64 \n",
      " 9   DAILY_REQUIREMENT                  3002 non-null   int64 \n",
      " 10  ACTUAL_STOCK_IMPORT                3002 non-null   int64 \n",
      " 11  ACTUAL_STOCK_INDIGENOUS            3002 non-null   object\n",
      " 12  ACTUAL_STOCK_TOTAL                 3002 non-null   object\n",
      " 13  ACTUAL_STOCK_DAYS                  3002 non-null   object\n",
      "dtypes: int64(3), object(11)\n",
      "memory usage: 328.5+ KB\n"
     ]
    }
   ],
   "source": [
    "coal.info()"
   ]
  },
  {
   "cell_type": "code",
   "execution_count": 30,
   "id": "912c3edd-5e2e-41f0-9811-3f53331b6451",
   "metadata": {},
   "outputs": [
    {
     "data": {
      "text/plain": [
       "Age       1402\n",
       "Height    1574\n",
       "Weight    1525\n",
       "FCVC       810\n",
       "NCP        635\n",
       "CH2O      1268\n",
       "FAF       1190\n",
       "TUE       1129\n",
       "dtype: int64"
      ]
     },
     "execution_count": 30,
     "metadata": {},
     "output_type": "execute_result"
    }
   ],
   "source": [
    "obese[numerical].nunique()\n"
   ]
  },
  {
   "cell_type": "code",
   "execution_count": 28,
   "id": "1ead6dc7-3e34-4ea2-9a51-52a74c64f5b0",
   "metadata": {},
   "outputs": [],
   "source": [
    "coal['ACTUAL_STOCK_TOTAL'] = coal['ACTUAL_STOCK_TOTAL'].str.replace(',', '').astype(int)\n"
   ]
  },
  {
   "cell_type": "code",
   "execution_count": 29,
   "id": "d8fee518-186b-4d18-8054-138cfa252760",
   "metadata": {},
   "outputs": [],
   "source": [
    "coal['ACTUAL_STOCK_DAYS'] = coal['ACTUAL_STOCK_DAYS'].str.replace(',', '').astype(int)\n"
   ]
  },
  {
   "cell_type": "code",
   "execution_count": 30,
   "id": "09a10966-9561-45bf-a09f-cd52458aa0fe",
   "metadata": {},
   "outputs": [],
   "source": [
    "coal['ACTUAL_STOCK_INDIGENOUS'] = coal['ACTUAL_STOCK_INDIGENOUS'].str.replace(',', '').astype(int)\n"
   ]
  },
  {
   "cell_type": "code",
   "execution_count": 31,
   "id": "2f1c96f6-cb97-47d0-a40a-4302c5d31886",
   "metadata": {},
   "outputs": [],
   "source": [
    "coal['CAPACITY'] = coal['CAPACITY'].str.replace(',', '').astype(int)\n"
   ]
  },
  {
   "cell_type": "code",
   "execution_count": 32,
   "id": "0dadc3a3-99d1-41e0-a1a7-56e078e913ed",
   "metadata": {},
   "outputs": [
    {
     "name": "stdout",
     "output_type": "stream",
     "text": [
      "<class 'pandas.core.frame.DataFrame'>\n",
      "RangeIndex: 3002 entries, 0 to 3001\n",
      "Data columns (total 14 columns):\n",
      " #   Column                             Non-Null Count  Dtype \n",
      "---  ------                             --------------  ----- \n",
      " 0   TRDATE                             3002 non-null   object\n",
      " 1   REGION                             3002 non-null   object\n",
      " 2   STATE_NAME                         3002 non-null   object\n",
      " 3   MODE_OF_TRANSPORT                  3002 non-null   object\n",
      " 4   STATION_NAME                       3002 non-null   object\n",
      " 5   UTILITY                            3002 non-null   object\n",
      " 6   SECTOR                             3002 non-null   object\n",
      " 7   CAPACITY                           3002 non-null   int32 \n",
      " 8   NORMATIVE_STOCKS_REQUIRED_IN_DAYS  3002 non-null   int64 \n",
      " 9   DAILY_REQUIREMENT                  3002 non-null   int64 \n",
      " 10  ACTUAL_STOCK_IMPORT                3002 non-null   int64 \n",
      " 11  ACTUAL_STOCK_INDIGENOUS            3002 non-null   int32 \n",
      " 12  ACTUAL_STOCK_TOTAL                 3002 non-null   int32 \n",
      " 13  ACTUAL_STOCK_DAYS                  3002 non-null   int32 \n",
      "dtypes: int32(4), int64(3), object(7)\n",
      "memory usage: 281.6+ KB\n"
     ]
    }
   ],
   "source": [
    "coal.info()"
   ]
  },
  {
   "cell_type": "code",
   "execution_count": 40,
   "id": "706f5b42-eeee-43e2-aa4d-dda92aa62885",
   "metadata": {},
   "outputs": [],
   "source": [
    "def outlier_detection(col):\n",
    "    q1=obese[col].quantile(0.25)\n",
    "    q3=obese[col].quantile(0.75)\n",
    "    iqr=q3-q1\n",
    "    lf=q1-1.5*iqr\n",
    "    uf=q3+1.5*iqr\n",
    "    outliers=obese[(obese[col]<lf) | (obese[col]>uf)]\n",
    "    print(\"percentage of outliers in\", col , outliers.shape[0]*100/obese.shape[0])\n",
    "    fig, ax=plt.subplots(1,2, figsize=(10,6))\n",
    "    ax[0].boxplot(obese[col])\n",
    "    ax[1].hist(obese[col])\n",
    "    plt.suptitle(col)\n",
    "    plt.show()\n",
    "    obese.loc[(obese[col]<lf) | (obese[col]>uf), col]=obese[col].median()   ## this line is for treat outlier"
   ]
  },
  {
   "cell_type": "code",
   "execution_count": 42,
   "id": "34880882-c082-4051-af56-1ab7d1bd6f2a",
   "metadata": {},
   "outputs": [
    {
     "name": "stdout",
     "output_type": "stream",
     "text": [
      "percentage of outliers in Age 7.958313595452392\n"
     ]
    },
    {
     "data": {
      "image/png": "[encoded data removed]",
      "text/plain": [
       "<Figure size 1000x600 with 2 Axes>"
      ]
     },
     "metadata": {},
     "output_type": "display_data"
    },
    {
     "name": "stdout",
     "output_type": "stream",
     "text": [
      "None\n",
      "percentage of outliers in Height 0.04737091425864519\n"
     ]
    },
    {
     "data": {
      "image/png": "[encoded data removed]",
      "text/plain": [
       "<Figure size 1000x600 with 2 Axes>"
      ]
     },
     "metadata": {},
     "output_type": "display_data"
    },
    {
     "name": "stdout",
     "output_type": "stream",
     "text": [
      "None\n",
      "percentage of outliers in Weight 0.04737091425864519\n"
     ]
    },
    {
     "data": {
      "image/png": "[encoded data removed]",
      "text/plain": [
       "<Figure size 1000x600 with 2 Axes>"
      ]
     },
     "metadata": {},
     "output_type": "display_data"
    },
    {
     "name": "stdout",
     "output_type": "stream",
     "text": [
      "None\n",
      "percentage of outliers in FCVC 0.0\n"
     ]
    },
    {
     "data": {
      "image/png": "[encoded data removed]",
      "text/plain": [
       "<Figure size 1000x600 with 2 Axes>"
      ]
     },
     "metadata": {},
     "output_type": "display_data"
    },
    {
     "name": "stdout",
     "output_type": "stream",
     "text": [
      "None\n",
      "percentage of outliers in NCP 27.427759355755565\n"
     ]
    },
    {
     "data": {
      "image/png": "[encoded data removed]",
      "text/plain": [
       "<Figure size 1000x600 with 2 Axes>"
      ]
     },
     "metadata": {},
     "output_type": "display_data"
    },
    {
     "name": "stdout",
     "output_type": "stream",
     "text": [
      "None\n",
      "percentage of outliers in CH2O 0.0\n"
     ]
    },
    {
     "data": {
      "image/png": "[encoded data removed]",
      "text/plain": [
       "<Figure size 1000x600 with 2 Axes>"
      ]
     },
     "metadata": {},
     "output_type": "display_data"
    },
    {
     "name": "stdout",
     "output_type": "stream",
     "text": [
      "None\n",
      "percentage of outliers in FAF 0.0\n"
     ]
    },
    {
     "data": {
      "image/png": "[encoded data removed]",
      "text/plain": [
       "<Figure size 1000x600 with 2 Axes>"
      ]
     },
     "metadata": {},
     "output_type": "display_data"
    },
    {
     "name": "stdout",
     "output_type": "stream",
     "text": [
      "None\n",
      "percentage of outliers in TUE 0.0\n"
     ]
    },
    {
     "data": {
      "image/png": "[encoded data removed]",
      "text/plain": [
       "<Figure size 1000x600 with 2 Axes>"
      ]
     },
     "metadata": {},
     "output_type": "display_data"
    },
    {
     "name": "stdout",
     "output_type": "stream",
     "text": [
      "None\n"
     ]
    }
   ],
   "source": [
    "for col in numerical:\n",
    "    print (outlier_detection(col))"
   ]
  },
  {
   "cell_type": "code",
   "execution_count": 44,
   "id": "0802cab4-51ab-41c1-bd34-867297335d86",
   "metadata": {},
   "outputs": [
    {
     "data": {
      "text/html": [
       "<div>\n",
       "<style scoped>\n",
       "    .dataframe tbody tr th:only-of-type {\n",
       "        vertical-align: middle;\n",
       "    }\n",
       "\n",
       "    .dataframe tbody tr th {\n",
       "        vertical-align: top;\n",
       "    }\n",
       "\n",
       "    .dataframe thead th {\n",
       "        text-align: right;\n",
       "    }\n",
       "</style>\n",
       "<table border=\"1\" class=\"dataframe\">\n",
       "  <thead>\n",
       "    <tr style=\"text-align: right;\">\n",
       "      <th></th>\n",
       "      <th>Age</th>\n",
       "      <th>Gender</th>\n",
       "      <th>Height</th>\n",
       "      <th>Weight</th>\n",
       "      <th>CALC</th>\n",
       "      <th>FAVC</th>\n",
       "      <th>FCVC</th>\n",
       "      <th>NCP</th>\n",
       "      <th>SCC</th>\n",
       "      <th>SMOKE</th>\n",
       "      <th>CH2O</th>\n",
       "      <th>family_history_with_overweight</th>\n",
       "      <th>FAF</th>\n",
       "      <th>TUE</th>\n",
       "      <th>CAEC</th>\n",
       "      <th>MTRANS</th>\n",
       "      <th>NObeyesdad</th>\n",
       "    </tr>\n",
       "  </thead>\n",
       "  <tbody>\n",
       "    <tr>\n",
       "      <th>0</th>\n",
       "      <td>21.000000</td>\n",
       "      <td>Female</td>\n",
       "      <td>1.620000</td>\n",
       "      <td>64.000000</td>\n",
       "      <td>no</td>\n",
       "      <td>no</td>\n",
       "      <td>2.0</td>\n",
       "      <td>3.0</td>\n",
       "      <td>no</td>\n",
       "      <td>no</td>\n",
       "      <td>2.000000</td>\n",
       "      <td>yes</td>\n",
       "      <td>0.000000</td>\n",
       "      <td>1.000000</td>\n",
       "      <td>Sometimes</td>\n",
       "      <td>Public_Transportation</td>\n",
       "      <td>Normal_Weight</td>\n",
       "    </tr>\n",
       "    <tr>\n",
       "      <th>1</th>\n",
       "      <td>21.000000</td>\n",
       "      <td>Female</td>\n",
       "      <td>1.520000</td>\n",
       "      <td>56.000000</td>\n",
       "      <td>Sometimes</td>\n",
       "      <td>no</td>\n",
       "      <td>3.0</td>\n",
       "      <td>3.0</td>\n",
       "      <td>yes</td>\n",
       "      <td>yes</td>\n",
       "      <td>3.000000</td>\n",
       "      <td>yes</td>\n",
       "      <td>3.000000</td>\n",
       "      <td>0.000000</td>\n",
       "      <td>Sometimes</td>\n",
       "      <td>Public_Transportation</td>\n",
       "      <td>Normal_Weight</td>\n",
       "    </tr>\n",
       "    <tr>\n",
       "      <th>2</th>\n",
       "      <td>23.000000</td>\n",
       "      <td>Male</td>\n",
       "      <td>1.800000</td>\n",
       "      <td>77.000000</td>\n",
       "      <td>Frequently</td>\n",
       "      <td>no</td>\n",
       "      <td>2.0</td>\n",
       "      <td>3.0</td>\n",
       "      <td>no</td>\n",
       "      <td>no</td>\n",
       "      <td>2.000000</td>\n",
       "      <td>yes</td>\n",
       "      <td>2.000000</td>\n",
       "      <td>1.000000</td>\n",
       "      <td>Sometimes</td>\n",
       "      <td>Public_Transportation</td>\n",
       "      <td>Normal_Weight</td>\n",
       "    </tr>\n",
       "    <tr>\n",
       "      <th>3</th>\n",
       "      <td>27.000000</td>\n",
       "      <td>Male</td>\n",
       "      <td>1.800000</td>\n",
       "      <td>87.000000</td>\n",
       "      <td>Frequently</td>\n",
       "      <td>no</td>\n",
       "      <td>3.0</td>\n",
       "      <td>3.0</td>\n",
       "      <td>no</td>\n",
       "      <td>no</td>\n",
       "      <td>2.000000</td>\n",
       "      <td>no</td>\n",
       "      <td>2.000000</td>\n",
       "      <td>0.000000</td>\n",
       "      <td>Sometimes</td>\n",
       "      <td>Walking</td>\n",
       "      <td>Overweight_Level_I</td>\n",
       "    </tr>\n",
       "    <tr>\n",
       "      <th>4</th>\n",
       "      <td>22.000000</td>\n",
       "      <td>Male</td>\n",
       "      <td>1.780000</td>\n",
       "      <td>89.800000</td>\n",
       "      <td>Sometimes</td>\n",
       "      <td>no</td>\n",
       "      <td>2.0</td>\n",
       "      <td>3.0</td>\n",
       "      <td>no</td>\n",
       "      <td>no</td>\n",
       "      <td>2.000000</td>\n",
       "      <td>no</td>\n",
       "      <td>0.000000</td>\n",
       "      <td>0.000000</td>\n",
       "      <td>Sometimes</td>\n",
       "      <td>Public_Transportation</td>\n",
       "      <td>Overweight_Level_II</td>\n",
       "    </tr>\n",
       "    <tr>\n",
       "      <th>...</th>\n",
       "      <td>...</td>\n",
       "      <td>...</td>\n",
       "      <td>...</td>\n",
       "      <td>...</td>\n",
       "      <td>...</td>\n",
       "      <td>...</td>\n",
       "      <td>...</td>\n",
       "      <td>...</td>\n",
       "      <td>...</td>\n",
       "      <td>...</td>\n",
       "      <td>...</td>\n",
       "      <td>...</td>\n",
       "      <td>...</td>\n",
       "      <td>...</td>\n",
       "      <td>...</td>\n",
       "      <td>...</td>\n",
       "      <td>...</td>\n",
       "    </tr>\n",
       "    <tr>\n",
       "      <th>2106</th>\n",
       "      <td>20.976842</td>\n",
       "      <td>Female</td>\n",
       "      <td>1.710730</td>\n",
       "      <td>131.408528</td>\n",
       "      <td>Sometimes</td>\n",
       "      <td>yes</td>\n",
       "      <td>3.0</td>\n",
       "      <td>3.0</td>\n",
       "      <td>no</td>\n",
       "      <td>no</td>\n",
       "      <td>1.728139</td>\n",
       "      <td>yes</td>\n",
       "      <td>1.676269</td>\n",
       "      <td>0.906247</td>\n",
       "      <td>Sometimes</td>\n",
       "      <td>Public_Transportation</td>\n",
       "      <td>Obesity_Type_III</td>\n",
       "    </tr>\n",
       "    <tr>\n",
       "      <th>2107</th>\n",
       "      <td>21.982942</td>\n",
       "      <td>Female</td>\n",
       "      <td>1.748584</td>\n",
       "      <td>133.742943</td>\n",
       "      <td>Sometimes</td>\n",
       "      <td>yes</td>\n",
       "      <td>3.0</td>\n",
       "      <td>3.0</td>\n",
       "      <td>no</td>\n",
       "      <td>no</td>\n",
       "      <td>2.005130</td>\n",
       "      <td>yes</td>\n",
       "      <td>1.341390</td>\n",
       "      <td>0.599270</td>\n",
       "      <td>Sometimes</td>\n",
       "      <td>Public_Transportation</td>\n",
       "      <td>Obesity_Type_III</td>\n",
       "    </tr>\n",
       "    <tr>\n",
       "      <th>2108</th>\n",
       "      <td>22.524036</td>\n",
       "      <td>Female</td>\n",
       "      <td>1.752206</td>\n",
       "      <td>133.689352</td>\n",
       "      <td>Sometimes</td>\n",
       "      <td>yes</td>\n",
       "      <td>3.0</td>\n",
       "      <td>3.0</td>\n",
       "      <td>no</td>\n",
       "      <td>no</td>\n",
       "      <td>2.054193</td>\n",
       "      <td>yes</td>\n",
       "      <td>1.414209</td>\n",
       "      <td>0.646288</td>\n",
       "      <td>Sometimes</td>\n",
       "      <td>Public_Transportation</td>\n",
       "      <td>Obesity_Type_III</td>\n",
       "    </tr>\n",
       "    <tr>\n",
       "      <th>2109</th>\n",
       "      <td>24.361936</td>\n",
       "      <td>Female</td>\n",
       "      <td>1.739450</td>\n",
       "      <td>133.346641</td>\n",
       "      <td>Sometimes</td>\n",
       "      <td>yes</td>\n",
       "      <td>3.0</td>\n",
       "      <td>3.0</td>\n",
       "      <td>no</td>\n",
       "      <td>no</td>\n",
       "      <td>2.852339</td>\n",
       "      <td>yes</td>\n",
       "      <td>1.139107</td>\n",
       "      <td>0.586035</td>\n",
       "      <td>Sometimes</td>\n",
       "      <td>Public_Transportation</td>\n",
       "      <td>Obesity_Type_III</td>\n",
       "    </tr>\n",
       "    <tr>\n",
       "      <th>2110</th>\n",
       "      <td>23.664709</td>\n",
       "      <td>Female</td>\n",
       "      <td>1.738836</td>\n",
       "      <td>133.472641</td>\n",
       "      <td>Sometimes</td>\n",
       "      <td>yes</td>\n",
       "      <td>3.0</td>\n",
       "      <td>3.0</td>\n",
       "      <td>no</td>\n",
       "      <td>no</td>\n",
       "      <td>2.863513</td>\n",
       "      <td>yes</td>\n",
       "      <td>1.026452</td>\n",
       "      <td>0.714137</td>\n",
       "      <td>Sometimes</td>\n",
       "      <td>Public_Transportation</td>\n",
       "      <td>Obesity_Type_III</td>\n",
       "    </tr>\n",
       "  </tbody>\n",
       "</table>\n",
       "<p>2111 rows × 17 columns</p>\n",
       "</div>"
      ],
      "text/plain": [
       "            Age  Gender    Height      Weight        CALC FAVC  FCVC  NCP  \\\n",
       "0     21.000000  Female  1.620000   64.000000          no   no   2.0  3.0   \n",
       "1     21.000000  Female  1.520000   56.000000   Sometimes   no   3.0  3.0   \n",
       "2     23.000000    Male  1.800000   77.000000  Frequently   no   2.0  3.0   \n",
       "3     27.000000    Male  1.800000   87.000000  Frequently   no   3.0  3.0   \n",
       "4     22.000000    Male  1.780000   89.800000   Sometimes   no   2.0  3.0   \n",
       "...         ...     ...       ...         ...         ...  ...   ...  ...   \n",
       "2106  20.976842  Female  1.710730  131.408528   Sometimes  yes   3.0  3.0   \n",
       "2107  21.982942  Female  1.748584  133.742943   Sometimes  yes   3.0  3.0   \n",
       "2108  22.524036  Female  1.752206  133.689352   Sometimes  yes   3.0  3.0   \n",
       "2109  24.361936  Female  1.739450  133.346641   Sometimes  yes   3.0  3.0   \n",
       "2110  23.664709  Female  1.738836  133.472641   Sometimes  yes   3.0  3.0   \n",
       "\n",
       "      SCC SMOKE      CH2O family_history_with_overweight       FAF       TUE  \\\n",
       "0      no    no  2.000000                            yes  0.000000  1.000000   \n",
       "1     yes   yes  3.000000                            yes  3.000000  0.000000   \n",
       "2      no    no  2.000000                            yes  2.000000  1.000000   \n",
       "3      no    no  2.000000                             no  2.000000  0.000000   \n",
       "4      no    no  2.000000                             no  0.000000  0.000000   \n",
       "...   ...   ...       ...                            ...       ...       ...   \n",
       "2106   no    no  1.728139                            yes  1.676269  0.906247   \n",
       "2107   no    no  2.005130                            yes  1.341390  0.599270   \n",
       "2108   no    no  2.054193                            yes  1.414209  0.646288   \n",
       "2109   no    no  2.852339                            yes  1.139107  0.586035   \n",
       "2110   no    no  2.863513                            yes  1.026452  0.714137   \n",
       "\n",
       "           CAEC                 MTRANS           NObeyesdad  \n",
       "0     Sometimes  Public_Transportation        Normal_Weight  \n",
       "1     Sometimes  Public_Transportation        Normal_Weight  \n",
       "2     Sometimes  Public_Transportation        Normal_Weight  \n",
       "3     Sometimes                Walking   Overweight_Level_I  \n",
       "4     Sometimes  Public_Transportation  Overweight_Level_II  \n",
       "...         ...                    ...                  ...  \n",
       "2106  Sometimes  Public_Transportation     Obesity_Type_III  \n",
       "2107  Sometimes  Public_Transportation     Obesity_Type_III  \n",
       "2108  Sometimes  Public_Transportation     Obesity_Type_III  \n",
       "2109  Sometimes  Public_Transportation     Obesity_Type_III  \n",
       "2110  Sometimes  Public_Transportation     Obesity_Type_III  \n",
       "\n",
       "[2111 rows x 17 columns]"
      ]
     },
     "execution_count": 44,
     "metadata": {},
     "output_type": "execute_result"
    }
   ],
   "source": [
    "obese"
   ]
  },
  {
   "cell_type": "code",
   "execution_count": 46,
   "id": "85ac65c4-13d6-42eb-b404-fab9fa26bdae",
   "metadata": {},
   "outputs": [
    {
     "name": "stdout",
     "output_type": "stream",
     "text": [
      "<class 'pandas.core.series.Series'>\n",
      "RangeIndex: 2111 entries, 0 to 2110\n",
      "Series name: FAVC\n",
      "Non-Null Count  Dtype \n",
      "--------------  ----- \n",
      "2111 non-null   object\n",
      "dtypes: object(1)\n",
      "memory usage: 16.6+ KB\n"
     ]
    }
   ],
   "source": [
    "obese.FAVC.info()"
   ]
  },
  {
   "cell_type": "code",
   "execution_count": null,
   "id": "ff92daf3-7de5-4a3f-bb3b-8b239a4bc7a1",
   "metadata": {},
   "outputs": [],
   "source": []
  },
  {
   "cell_type": "code",
   "execution_count": null,
   "id": "7d6bdb7f-6b9a-4ed4-b67c-e7b02c229dec",
   "metadata": {},
   "outputs": [],
   "source": []
  }
 ],
 "metadata": {
  "kernelspec": {
   "display_name": "Python 3 (ipykernel)",
   "language": "python",
   "name": "python3"
  },
  "language_info": {
   "codemirror_mode": {
    "name": "ipython",
    "version": 3
   },
   "file_extension": ".py",
   "mimetype": "text/x-python",
   "name": "python",
   "nbconvert_exporter": "python",
   "pygments_lexer": "ipython3",
   "version": "3.12.4"
  }
 },
 "nbformat": 4,
 "nbformat_minor": 5
}
